{
 "cells": [
  {
   "cell_type": "code",
   "execution_count": null,
   "id": "343e208a-b8c0-4a0f-8469-851a4a03a632",
   "metadata": {},
   "outputs": [],
   "source": [
    "#Question 1."
   ]
  },
  {
   "cell_type": "code",
   "execution_count": null,
   "id": "58382271-cca0-4ae6-b50c-d1c087aa7a78",
   "metadata": {},
   "outputs": [],
   "source": [
    "def keyword is used to create a function in Python."
   ]
  },
  {
   "cell_type": "code",
   "execution_count": 2,
   "id": "71f33a4d-1b25-4a2b-9ade-f9ef33f33914",
   "metadata": {},
   "outputs": [],
   "source": [
    "def funcg():\n",
    "    l1=[]\n",
    "    for i in range(1,26):\n",
    "        if i % 2==1 :\n",
    "            l1.append(i)\n",
    "    return l1"
   ]
  },
  {
   "cell_type": "code",
   "execution_count": 3,
   "id": "b370332c-e5f8-449d-9ee9-876f682f375d",
   "metadata": {},
   "outputs": [
    {
     "data": {
      "text/plain": [
       "[1, 3, 5, 7, 9, 11, 13, 15, 17, 19, 21, 23, 25]"
      ]
     },
     "execution_count": 3,
     "metadata": {},
     "output_type": "execute_result"
    }
   ],
   "source": [
    "funcg()"
   ]
  },
  {
   "cell_type": "code",
   "execution_count": 4,
   "id": "45da627b-b909-4b01-ab8d-310e453075db",
   "metadata": {},
   "outputs": [],
   "source": [
    "#Question 2."
   ]
  },
  {
   "cell_type": "code",
   "execution_count": null,
   "id": "1f9a485c-6102-4d17-8b89-faeba4a0d819",
   "metadata": {},
   "outputs": [],
   "source": [
    "*args and **kwargs are used in Python functions when the number of arguments or keyword arguments is unknown or variable.\n",
    "\n",
    "*args is used when we want to pass a variable number of positional arguments to a function. It allows us to pass any number of arguments to the function. In the function, *args is a tuple that contains all the positional arguments passed to the function.\n",
    "\n",
    "**kwargs is used when we want to pass a variable number of keyword arguments to a function. It allows us to pass any number of keyword arguments to the function. In the function, **kwargs is a dictionary that contains all the keyword arguments passed to the function."
   ]
  },
  {
   "cell_type": "code",
   "execution_count": null,
   "id": "f9156369-0300-43a8-a165-5a8c7bb59b33",
   "metadata": {},
   "outputs": [],
   "source": [
    "#Example for *args:"
   ]
  },
  {
   "cell_type": "code",
   "execution_count": 5,
   "id": "151f9323-904c-4990-8d4c-49b32fa3f38e",
   "metadata": {},
   "outputs": [
    {
     "name": "stdout",
     "output_type": "stream",
     "text": [
      "10\n",
      "60\n"
     ]
    }
   ],
   "source": [
    "def my_sum(*args):\n",
    "    result = 0\n",
    "    for arg in args:\n",
    "        result += arg\n",
    "    return result\n",
    "\n",
    "print(my_sum(1, 2, 3, 4))  \n",
    "print(my_sum(10, 20, 30)) "
   ]
  },
  {
   "cell_type": "code",
   "execution_count": 6,
   "id": "9fb6b06c-351b-48f4-a401-9b6e8cd2e9e3",
   "metadata": {},
   "outputs": [],
   "source": [
    "#Example for **kwargs:"
   ]
  },
  {
   "cell_type": "code",
   "execution_count": 7,
   "id": "f046f49e-cc7f-4ec2-be24-9e15a04bf5bb",
   "metadata": {},
   "outputs": [
    {
     "name": "stdout",
     "output_type": "stream",
     "text": [
      "name : John\n",
      "age : 25\n",
      "city : New York\n",
      "product : Laptop\n",
      "price : 1000\n",
      "brand : Dell\n"
     ]
    }
   ],
   "source": [
    "def print_values(**kwargs):\n",
    "    for key, value in kwargs.items():\n",
    "        print(key, \":\", value)\n",
    "\n",
    "print_values(name=\"John\", age=25, city=\"New York\")  \n",
    "print_values(product=\"Laptop\", price=1000, brand=\"Dell\")  "
   ]
  },
  {
   "cell_type": "code",
   "execution_count": 8,
   "id": "a7b14a15-8496-40cd-9c76-deecfda23b8c",
   "metadata": {},
   "outputs": [],
   "source": [
    "#Question 3."
   ]
  },
  {
   "cell_type": "code",
   "execution_count": null,
   "id": "7409d2ba-c856-49b2-871d-09c0b9799fa5",
   "metadata": {},
   "outputs": [],
   "source": [
    "In Python, an iterator is an object that allows you to traverse through a sequence of values one at a time.\n",
    "\n",
    "An iterator object implements two methods: __iter__() and __next__(). The __iter__() method initializes the iterator object and returns itself, while the __next__() method retrieves the next value from the sequence. When there are no more values to retrieve, it raises the StopIteration exception.\n",
    "\n",
    "The iter() function is used to create an iterator object from an iterable object. An iterable object is an object that can return an iterator, such as a list, tuple, or string. When iter() is called on an iterable object, it returns an iterator object.\n",
    "\n",
    "The next() function is used to iterate over the values of an iterator object. It retrieves the next value from the iterator and raises the StopIteration exception when there are no more values to retrieve."
   ]
  },
  {
   "cell_type": "code",
   "execution_count": 11,
   "id": "edc35a94-f2bd-4eff-b6be-08ef788658c7",
   "metadata": {},
   "outputs": [
    {
     "name": "stdout",
     "output_type": "stream",
     "text": [
      "2 4 6 8 10 "
     ]
    }
   ],
   "source": [
    "my_list = [2,4,6,8,10,12,14,16,18,20]\n",
    "my_iterator = iter(my_list)\n",
    "\n",
    "for i in range(0,5):\n",
    "    print(next(my_iterator),end=\" \")"
   ]
  },
  {
   "cell_type": "code",
   "execution_count": null,
   "id": "93fd2b57-e66a-4e7f-aea7-756778279171",
   "metadata": {},
   "outputs": [],
   "source": [
    "#Question 4."
   ]
  },
  {
   "cell_type": "code",
   "execution_count": 13,
   "id": "44e8ee40-b8cb-4fdb-b288-8aa65dd22637",
   "metadata": {},
   "outputs": [],
   "source": [
    "In Python, a generator function is a special type of function that generates a sequence of values one at a time. It is defined like a normal function, but instead of using the return keyword to return a value, it uses the yield keyword to yield a value.\n",
    "\n",
    "The yield keyword is used to return a value from the generator function and suspend its execution. When the generator function is resumed, it picks up from where it left off, continuing its execution until it reaches the next yield statement.\n"
   ]
  },
  {
   "cell_type": "code",
   "execution_count": 16,
   "id": "4f8fef4d-0a3e-471a-9a65-6112e5f22417",
   "metadata": {},
   "outputs": [
    {
     "name": "stdout",
     "output_type": "stream",
     "text": [
      "20 300 300 "
     ]
    }
   ],
   "source": [
    "def genz():\n",
    "    a,b,c=20,10,30\n",
    "    while True:\n",
    "        yield a\n",
    "        a=b*c\n",
    "\n",
    "gen=genz()\n",
    "for i in range(0,3):\n",
    "    print(next(gen),end=\" \")"
   ]
  },
  {
   "cell_type": "code",
   "execution_count": 17,
   "id": "2220d159-327a-45ab-9ed3-cc7d04f50903",
   "metadata": {},
   "outputs": [],
   "source": [
    "#Question 5."
   ]
  },
  {
   "cell_type": "code",
   "execution_count": 38,
   "id": "5b7109de-3c67-4e0d-9ca5-6c613e900f5a",
   "metadata": {},
   "outputs": [
    {
     "name": "stdout",
     "output_type": "stream",
     "text": [
      "2 3 4 5 7 11 13 17 19 23 29 31 37 41 43 47 53 59 61 67 "
     ]
    }
   ],
   "source": [
    "def primeno():\n",
    "    yield 2\n",
    "    for i in range(3,1000):\n",
    "        for n in range(3,i):\n",
    "            if i%n==0:\n",
    "                break\n",
    "        else:\n",
    "            yield i\n",
    "\n",
    "genp=primeno()\n",
    "for i in range(20):\n",
    "    print(next(genp),end=\" \")"
   ]
  },
  {
   "cell_type": "code",
   "execution_count": 39,
   "id": "12117208-ff3b-4833-9494-eaa64152910b",
   "metadata": {},
   "outputs": [],
   "source": [
    "#Question 6."
   ]
  },
  {
   "cell_type": "code",
   "execution_count": 44,
   "id": "8c993461-2869-4668-b176-272c850b0a62",
   "metadata": {},
   "outputs": [
    {
     "name": "stdout",
     "output_type": "stream",
     "text": [
      "0 1 1 2 3 5 8 13 21 34 "
     ]
    }
   ],
   "source": [
    "def fib():\n",
    "    a,b=0,1\n",
    "    l1=[0,1]\n",
    "    for i in range(8):\n",
    "        sum=a+b\n",
    "        l1.append(sum)\n",
    "        a=b\n",
    "        b=sum\n",
    "    for i in l1:\n",
    "        print(i,end=\" \")\n",
    "\n",
    "fib()"
   ]
  },
  {
   "cell_type": "code",
   "execution_count": 45,
   "id": "d44eaba7-baa0-4cff-ae21-3adad3c1d368",
   "metadata": {},
   "outputs": [],
   "source": [
    "#Question 7:"
   ]
  },
  {
   "cell_type": "code",
   "execution_count": 58,
   "id": "c6197d04-97b3-4062-a1f0-9be325c820ef",
   "metadata": {},
   "outputs": [
    {
     "name": "stdout",
     "output_type": "stream",
     "text": [
      "['p', 'w', 's', 'k', 'i', 'l', 'l', 's']\n"
     ]
    }
   ],
   "source": [
    "string = 'pwskills'\n",
    "output = [char for char in string if char in 'pwskills']\n",
    "print(output)"
   ]
  },
  {
   "cell_type": "code",
   "execution_count": 48,
   "id": "af948588-fa77-4371-8367-12e0aa901561",
   "metadata": {},
   "outputs": [],
   "source": [
    "#Question 8:"
   ]
  },
  {
   "cell_type": "code",
   "execution_count": 60,
   "id": "38145c7d-55f3-48ea-a433-ad5f3c2d2934",
   "metadata": {},
   "outputs": [
    {
     "name": "stdout",
     "output_type": "stream",
     "text": [
      "1221 is a palindrome\n",
      "101 is a palindrome\n",
      "152 is not a palindrome\n"
     ]
    }
   ],
   "source": [
    "def palin(num):\n",
    "    temp = num\n",
    "    reverse_num = 0\n",
    "\n",
    "    while temp > 0:\n",
    "        digit = temp % 10\n",
    "        reverse_num = reverse_num * 10 + digit\n",
    "        temp //= 10\n",
    "    if num == reverse_num:\n",
    "        print(num, \"is a palindrome\")\n",
    "    else:\n",
    "        print(num, \"is not a palindrome\")\n",
    "\n",
    "palin(1221)\n",
    "palin(101)\n",
    "palin(152)"
   ]
  },
  {
   "cell_type": "code",
   "execution_count": null,
   "id": "8b843b34-7075-4cb5-9ebf-0dc1afe17242",
   "metadata": {},
   "outputs": [],
   "source": [
    "#Question 9."
   ]
  },
  {
   "cell_type": "code",
   "execution_count": 66,
   "id": "0e98026c-243c-4f44-ad84-d15da8b36782",
   "metadata": {},
   "outputs": [
    {
     "name": "stdout",
     "output_type": "stream",
     "text": [
      "[1, 2, 3, 4, 5, 6, 7, 8, 9, 10, 11, 12, 13, 14, 15, 16, 17, 18, 19, 20, 21, 22, 23, 24, 25, 26, 27, 28, 29, 30, 31, 32, 33, 34, 35, 36, 37, 38, 39, 40, 41, 42, 43, 44, 45, 46, 47, 48, 49, 50, 51, 52, 53, 54, 55, 56, 57, 58, 59, 60, 61, 62, 63, 64, 65, 66, 67, 68, 69, 70, 71, 72, 73, 74, 75, 76, 77, 78, 79, 80, 81, 82, 83, 84, 85, 86, 87, 88, 89, 90, 91, 92, 93, 94, 95, 96, 97, 98, 99, 100]\n"
     ]
    }
   ],
   "source": [
    "l1=[i for i in range(1,101)]\n",
    "print(l1)\n",
    "l2=[i for i in l1 if i%"
   ]
  },
  {
   "cell_type": "code",
   "execution_count": null,
   "id": "cf4369d3-b0bd-486b-b9d9-1722c84ca56b",
   "metadata": {},
   "outputs": [],
   "source": []
  }
 ],
 "metadata": {
  "kernelspec": {
   "display_name": "Python 3 (ipykernel)",
   "language": "python",
   "name": "python3"
  },
  "language_info": {
   "codemirror_mode": {
    "name": "ipython",
    "version": 3
   },
   "file_extension": ".py",
   "mimetype": "text/x-python",
   "name": "python",
   "nbconvert_exporter": "python",
   "pygments_lexer": "ipython3",
   "version": "3.10.6"
  }
 },
 "nbformat": 4,
 "nbformat_minor": 5
}
