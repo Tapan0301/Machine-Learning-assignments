{
 "cells": [
  {
   "cell_type": "code",
   "execution_count": null,
   "id": "1e1c6070-809a-41ad-89a0-3aed31c3502d",
   "metadata": {},
   "outputs": [],
   "source": [
    "# Question 1."
   ]
  },
  {
   "cell_type": "code",
   "execution_count": null,
   "id": "69f68ca3-ed9c-48ad-879c-a57cf426c953",
   "metadata": {},
   "outputs": [],
   "source": [
    "Python programming language was created by Guido van Rossum in the late 1980s while he \n",
    "was working at the National Research Institute for Mathematics and Computer Science (CWI) in the Netherlands. "
   ]
  },
  {
   "cell_type": "code",
   "execution_count": null,
   "id": "96900080-1819-4465-8f90-beb058f3b0c6",
   "metadata": {},
   "outputs": [],
   "source": [
    "#Question 2."
   ]
  },
  {
   "cell_type": "code",
   "execution_count": null,
   "id": "00e8470e-b235-4ac8-b976-f88e9cf4c54c",
   "metadata": {},
   "outputs": [],
   "source": [
    "Python is a high-level, interpreted programming language that supports a wide range of programming paradigms,\n",
    "including:\n",
    "\n",
    "Procedural programming\n",
    "Object-oriented programming\n",
    "Functional programming\n",
    "Aspect-oriented programming\n",
    "Imperative programming\n",
    "Event-driven programming\n",
    "Concurrent programming\n",
    "Python also has a large standard library that provides a wide range of modules\n",
    "for tasks such as file I/O, network programming, web development, database programming, and more.\n",
    "Additionally, Python has a large community that develops third-party libraries for specialized tasks, \n",
    "making it a versatile language for a wide range of applications."
   ]
  },
  {
   "cell_type": "code",
   "execution_count": null,
   "id": "b3f44d31-c7dc-449a-899f-ce9d4149e3ac",
   "metadata": {},
   "outputs": [],
   "source": [
    "#Question 3."
   ]
  },
  {
   "cell_type": "code",
   "execution_count": null,
   "id": "726ae747-05ac-44d9-8188-fbe38c623744",
   "metadata": {},
   "outputs": [],
   "source": [
    "Yes, Python is a case-sensitive programming language, which means that identifiers \n",
    "such as variable names, function names, and class names are treated as different \n",
    "entities based on the case of the characters in their names. For example, \"myVariable\" \n",
    "and \"myvariable\" are two different variables in Python.\n",
    "\n",
    "It is important to be consistent with the case of identifiers when writing\n",
    "Python code to avoid errors and improve code readability. In general, it is a good \n",
    "practice to use lowercase letters for variable and function names, and capitalize the first \n",
    "letter of each word for class names, following the standard naming conventions in Python."
   ]
  },
  {
   "cell_type": "code",
   "execution_count": null,
   "id": "d93aac7f-b847-4399-94b3-57a2e78c49b7",
   "metadata": {},
   "outputs": [],
   "source": [
    "#Question 4."
   ]
  },
  {
   "cell_type": "code",
   "execution_count": null,
   "id": "9c3204be-4043-4a70-8d65-384a1434b6cd",
   "metadata": {},
   "outputs": [],
   "source": [
    "The standard and most commonly used extension for Python files is \".py\".\n",
    "\n",
    "When you save a Python script or program in a file, you should give it a \n",
    "name that ends with the \".py\" extension. For example, \"my_script.py\" is a valid name for a Python script file.\n",
    "\n",
    "By convention, Python module names should also follow the same naming convention and \n",
    "have a \".py\" extension. For example, if you create a module called \"my_module\" that contains \n",
    "Python code, you should save it as a file named \"my_module.py\".\n",
    "\n",
    "It is important to use the correct extension for Python files to ensure that they can be \n",
    "recognized and executed correctly by Python interpreters and other tools."
   ]
  },
  {
   "cell_type": "code",
   "execution_count": null,
   "id": "269cd079-5a47-4d09-82e3-92dd87b576a7",
   "metadata": {},
   "outputs": [],
   "source": [
    "#Question 5."
   ]
  },
  {
   "cell_type": "code",
   "execution_count": null,
   "id": "e54e7372-5cf5-4ea3-97e7-84501d2af1a3",
   "metadata": {},
   "outputs": [],
   "source": [
    "Python code is interpreted, which means that the code is executed directly by a Python interpreter without being compiled into machine code beforehand.\n",
    "\n",
    "When you run a Python program, the interpreter reads the source code line by line, interprets it, and executes the corresponding instructions in a step-by-step manner. This makes the development process faster and more flexible, as you can execute Python code interactively in a shell or as a script without the need to compile it.\n",
    "\n",
    "However, Python code can also be compiled into bytecode, which is a lower-level representation of the code that can be executed more efficiently by the Python interpreter. The bytecode is stored in \".pyc\" files, which are created automatically by the interpreter when you import a module or run a script for the first time. The bytecode is then used to speed up subsequent executions of the same code.\n",
    "\n",
    "So while Python code is interpreted at runtime, it can also be compiled into bytecode for improved performance."
   ]
  },
  {
   "cell_type": "code",
   "execution_count": null,
   "id": "7dc9bb2c-0c84-441f-86da-832c7dab6df0",
   "metadata": {},
   "outputs": [],
   "source": [
    "#Question 6."
   ]
  },
  {
   "cell_type": "code",
   "execution_count": null,
   "id": "489ce395-1bcd-4b47-8896-65684bc268de",
   "metadata": {},
   "outputs": [],
   "source": [
    "In Python, code blocks are defined using indentation rather than explicit block delimiters such as braces or keywords. The following are some of the code blocks commonly used in Python:\n",
    "\n",
    "Function blocks: A function block is a piece of code that performs a specific task and is defined using the \"def\" keyword followed by the function name, parameters, and body of the function. The body of the function is indented to show that it belongs to the function block.\n",
    "\n",
    "Class blocks: A class block is a piece of code that defines a new class in Python, which is a blueprint for creating objects with specific attributes and behaviors. Class blocks are defined using the \"class\" keyword followed by the class name, attributes, and methods.\n",
    "\n",
    "Loop blocks: A loop block is a piece of code that repeats a specific task multiple times. Python supports two types of loops: \"for\" loops and \"while\" loops. Both types of loops use indentation to define the body of the loop block.\n",
    "\n",
    "Conditional blocks: A conditional block is a piece of code that executes a specific task based on a condition. Python supports the \"if-else\" conditional block, which is used to test a condition and execute one set of instructions if the condition is true and another set of instructions if the condition is false. The body of the conditional block is indented to show that it belongs to the conditional statement."
   ]
  },
  {
   "cell_type": "code",
   "execution_count": null,
   "id": "8598dc27-9cb2-465d-86f5-5e96068a9ddd",
   "metadata": {},
   "outputs": [],
   "source": [
    "#Question 7."
   ]
  },
  {
   "cell_type": "code",
   "execution_count": null,
   "id": "6119561e-31e3-4146-a9a4-904f449af156",
   "metadata": {},
   "outputs": [],
   "source": [
    "In Python, the \"#\" (hash) character is used to give single-line comments.\n",
    "\n",
    "Anything that appears after the \"#\" character on a line is considered a comment and is ignored by the Python interpreter. You can use comments to provide explanatory notes, document your code, or temporarily disable code that you don't want to run."
   ]
  },
  {
   "cell_type": "code",
   "execution_count": null,
   "id": "ba7745ff-380f-4ec5-923e-0d993d9c200b",
   "metadata": {},
   "outputs": [],
   "source": [
    "#Question 8."
   ]
  },
  {
   "cell_type": "code",
   "execution_count": null,
   "id": "75c4bd60-e1b0-4b5c-bc6c-3e5908d1f84b",
   "metadata": {},
   "outputs": [],
   "source": [
    "Here are three functions that can help you find the version of Python you're currently working on:\n",
    "\n",
    "sys.version: This function returns a string containing the Python version number and additional information such as the build number and compiler used.\n",
    "\n",
    "platform.python_version(): This function returns just the version number of Python that you're using.\n",
    "\n",
    "sys.version_info: This function returns a tuple containing the major, minor, and micro version numbers of Python, as well as information about the release level, serial number, and build information."
   ]
  },
  {
   "cell_type": "code",
   "execution_count": null,
   "id": "16c32e73-8d13-4801-9747-982f3e0faef5",
   "metadata": {},
   "outputs": [],
   "source": [
    "#Question 9."
   ]
  },
  {
   "cell_type": "code",
   "execution_count": null,
   "id": "06095c78-34e7-480e-84b2-fe4e6a066e0c",
   "metadata": {},
   "outputs": [],
   "source": [
    "Python supports the creation of anonymous functions at runtime using a construct called \"lambda\"."
   ]
  },
  {
   "cell_type": "code",
   "execution_count": null,
   "id": "3d8744f1-d4df-4bb3-86d4-656b9bd17b31",
   "metadata": {},
   "outputs": [],
   "source": [
    "#Question 10."
   ]
  },
  {
   "cell_type": "code",
   "execution_count": null,
   "id": "da070218-9182-4e3a-a94a-b2f5bb30e320",
   "metadata": {},
   "outputs": [],
   "source": [
    "PIP stands for \"Pip Installs Packages\"."
   ]
  },
  {
   "cell_type": "code",
   "execution_count": null,
   "id": "46ddc3b4-d172-4f3d-9371-c35141cb50a4",
   "metadata": {},
   "outputs": [],
   "source": [
    "#Question 11."
   ]
  },
  {
   "cell_type": "code",
   "execution_count": null,
   "id": "f146b171-6a5e-4d05-bb05-f1dffcc76f65",
   "metadata": {},
   "outputs": [],
   "source": [
    "Here are a few built-in functions in Python:\n",
    "\n",
    "print(): This function is used to print output to the console.\n",
    "\n",
    "len(): This function is used to get the length of an object, such as a string, list, or tuple.\n",
    "\n",
    "type(): This function is used to get the type of an object, such as a string, integer, or float.\n",
    "\n",
    "range(): This function is used to generate a sequence of numbers.\n",
    "\n",
    "input(): This function is used to get input from the user.\n",
    "\n",
    "str(): This function is used to convert an object to a string.\n",
    "\n",
    "int(): This function is used to convert an object to an integer.\n",
    "\n",
    "float(): This function is used to convert an object to a floating-point number.\n",
    "\n",
    "list(): This function is used to create a new list object.\n",
    "\n",
    "tuple(): This function is used to create a new tuple object.\n",
    "\n",
    "dict(): This function is used to create a new dictionary object.\n",
    "\n",
    "set(): This function is used to create a new set object.\n",
    "\n",
    "abs(): This function is used to get the absolute value of a number.\n",
    "\n",
    "max(): This function is used to get the maximum value in a sequence.\n",
    "\n",
    "min(): This function is used to get the minimum value in a sequence."
   ]
  },
  {
   "cell_type": "code",
   "execution_count": null,
   "id": "fdd67383-715f-460e-a9af-91287c16b8a1",
   "metadata": {},
   "outputs": [],
   "source": [
    "#Question 12."
   ]
  },
  {
   "cell_type": "code",
   "execution_count": null,
   "id": "4cd4997c-70b6-4b38-be6a-3eb1edac8ce4",
   "metadata": {},
   "outputs": [],
   "source": [
    "n Python, the maximum possible length of an identifier is not defined.\n",
    "\n",
    "However, it is generally recommended to keep identifier names reasonably short and descriptive. According to the PEP 8 style guide for Python code, variable names should be lowercase, with words separated by underscores as necessary to improve readability. Function names should be lowercase, with words separated by underscores as necessary to improve readability, and class names should use the CapWords convention, with the first letter of each word capitalized."
   ]
  },
  {
   "cell_type": "code",
   "execution_count": null,
   "id": "2eec958c-f334-480c-95a7-55d7e58cf61f",
   "metadata": {},
   "outputs": [],
   "source": [
    "#Question 13."
   ]
  },
  {
   "cell_type": "code",
   "execution_count": null,
   "id": "15babe6d-cd7b-4220-8042-5409cda29766",
   "metadata": {},
   "outputs": [],
   "source": [
    "There are many benefits of using Python, including:\n",
    "\n",
    "Easy to learn and use: Python has a simple syntax that is easy to learn and use, making it an ideal language for beginners. The language is designed to be easy to read and write, which helps developers to write code more quickly and efficiently.\n",
    "\n",
    "Large and active community: Python has a large and active community of developers who are constantly working on improving the language and its ecosystem of libraries and tools. This means that there are many resources available to help you learn and use Python effectively, including documentation, tutorials, and forums.\n",
    "\n",
    "Cross-platform compatibility: Python can run on many different platforms, including Windows, Mac, Linux, and Unix, making it a versatile language for developing applications across multiple operating systems.\n",
    "\n",
    "Extensive library support: Python has a vast library of modules and packages that can be easily imported into your code, providing a wide range of functionality for tasks such as data processing, web development, scientific computing, and more.\n",
    "\n",
    "Scalability and flexibility: Python is a highly scalable language that can be used for small scripts or large-scale applications. It is also a flexible language that can be used for a wide range of tasks, from web development to data science and machine learning.\n",
    "\n",
    "Open-source and free: Python is an open-source language, which means that it is free to use and distribute, making it an accessible language for developers and organizations of all sizes."
   ]
  },
  {
   "cell_type": "code",
   "execution_count": null,
   "id": "0b2cbfb9-b307-4a26-89a3-e28c1ddeabf6",
   "metadata": {},
   "outputs": [],
   "source": [
    "#Question 14."
   ]
  },
  {
   "cell_type": "code",
   "execution_count": null,
   "id": "49d3cb26-5684-42f3-ad05-074c0b065591",
   "metadata": {},
   "outputs": [],
   "source": [
    "Memory management in Python is handled automatically by the Python runtime environment. Python uses a combination of reference counting and a garbage collector to manage memory.\n",
    "\n",
    "Reference counting is a technique that keeps track of the number of references to an object. Each time a new reference is created to an object, the reference count for that object is incremented. When a reference is deleted, the reference count is decremented. When the reference count for an object reaches zero, the object is no longer needed and its memory can be freed.\n",
    "\n",
    "In addition to reference counting, Python also employs a garbage collector to reclaim memory that is no longer needed by the program. The garbage collector runs periodically and identifies objects that are no longer being referenced by the program. These objects are then marked as eligible for garbage collection and their memory is freed.\n",
    "\n",
    "Python's memory management system is designed to be efficient and automatic, allowing developers to focus on writing code without worrying about managing memory. However, it's important to note that in some cases, manual memory management may be necessary to optimize performance or reduce memory usage in memory-intensive applications."
   ]
  },
  {
   "cell_type": "code",
   "execution_count": null,
   "id": "8b6d710a-022f-46d5-98c3-2866ee5f5b48",
   "metadata": {},
   "outputs": [],
   "source": [
    "#Question 15."
   ]
  },
  {
   "cell_type": "code",
   "execution_count": null,
   "id": "36bc48b6-718d-4e3c-9e3c-7e25ba8a603e",
   "metadata": {},
   "outputs": [],
   "source": []
  },
  {
   "cell_type": "code",
   "execution_count": null,
   "id": "9ecad2c3-131b-412f-81b5-1662f22142b8",
   "metadata": {},
   "outputs": [],
   "source": [
    "#Question 16."
   ]
  },
  {
   "cell_type": "code",
   "execution_count": null,
   "id": "16574c12-1d8d-4598-b4cb-2e7e3c2978bd",
   "metadata": {},
   "outputs": [],
   "source": []
  }
 ],
 "metadata": {
  "kernelspec": {
   "display_name": "Python 3 (ipykernel)",
   "language": "python",
   "name": "python3"
  },
  "language_info": {
   "codemirror_mode": {
    "name": "ipython",
    "version": 3
   },
   "file_extension": ".py",
   "mimetype": "text/x-python",
   "name": "python",
   "nbconvert_exporter": "python",
   "pygments_lexer": "ipython3",
   "version": "3.10.6"
  }
 },
 "nbformat": 4,
 "nbformat_minor": 5
}
