{
 "cells": [
  {
   "cell_type": "code",
   "execution_count": null,
   "id": "52121217-2530-468b-a363-da53b1ab0076",
   "metadata": {},
   "outputs": [],
   "source": [
    " # Q1."
   ]
  },
  {
   "cell_type": "code",
   "execution_count": null,
   "id": "d67a7ede-4005-41a8-aae8-1c3f91a66957",
   "metadata": {},
   "outputs": [],
   "source": [
    "Object-oriented programming (OOP) is a programming paradigm that uses objects as the fundamental building blocks of programs. A class is a blueprint or a template for creating objects, while an object is an instance of a class.\n",
    "\n",
    "A class defines a set of attributes and methods that are shared by all objects created from it. Attributes are the data fields that represent the object's state, while methods are the operations that can be performed on the object.\n",
    "\n",
    "An object is an instance of a class that has its own unique state and behavior. It can access the attributes and methods of its class, and also has its own instance-specific attributes and methods."
   ]
  },
  {
   "cell_type": "code",
   "execution_count": null,
   "id": "f612d038-3dbd-429c-acb0-fecb28fdd6d7",
   "metadata": {},
   "outputs": [],
   "source": [
    " Dog is a class that defines the attributes name and breed, and the method bark(). We create an object of the Dog class called my_dog and set its name to \"Max\" and its breed to \"Golden Retriever\". We can access these attributes using dot notation (my_dog.name and my_dog.breed) and call the object's method bark() using my_dog.bark()."
   ]
  },
  {
   "cell_type": "code",
   "execution_count": null,
   "id": "0c49e4fa-37af-498a-97c0-4058468b6686",
   "metadata": {},
   "outputs": [],
   "source": [
    "# Q2."
   ]
  },
  {
   "cell_type": "code",
   "execution_count": null,
   "id": "c30edf98-f6c0-4fcc-85f7-75491f935072",
   "metadata": {},
   "outputs": [],
   "source": [
    "The four pillars of Object-Oriented Programming (OOP) are:\n",
    "\n",
    "Encapsulation: This refers to the practice of bundling data and methods into a single unit, known as a class, and hiding the details of the implementation from the outside world. Encapsulation allows for better data security and makes it easier to maintain the code.\n",
    "\n",
    "Abstraction: This refers to the process of simplifying complex systems by breaking them down into smaller, more manageable parts. Abstraction allows developers to focus on the essential features of an object and ignore irrelevant details.\n",
    "\n",
    "Inheritance: This refers to the ability of a class to inherit properties and methods from its parent class. Inheritance allows developers to reuse existing code and build upon existing functionality, which can help reduce development time and improve code quality.\n",
    "\n",
    "Polymorphism: This refers to the ability of objects to take on multiple forms. Polymorphism allows developers to write code that can work with objects of different classes, as long as they share a common interface. This can help make code more flexible and adaptable to changing requirements."
   ]
  },
  {
   "cell_type": "code",
   "execution_count": null,
   "id": "94386840-bead-4842-875a-6ed39ec85411",
   "metadata": {},
   "outputs": [],
   "source": [
    "# Q3."
   ]
  },
  {
   "cell_type": "code",
   "execution_count": null,
   "id": "27b6df6b-714d-43c1-a5a3-9180416a62b4",
   "metadata": {},
   "outputs": [],
   "source": [
    "The __init__() function is a special method in Python classes that is used to initialize the attributes of an object when it is created. It is often called a constructor because it is called automatically when a new instance of a class is created.\n",
    "\n",
    "The __init__() method takes the self parameter, which refers to the object being created, and any other parameters that are needed to initialize the object's attributes. It is inside this method that the object's attributes are defined and assigned initial values."
   ]
  },
  {
   "cell_type": "code",
   "execution_count": 1,
   "id": "3cf2dea8-abe1-4a88-9a6a-e76e2711baa8",
   "metadata": {},
   "outputs": [
    {
     "name": "stdout",
     "output_type": "stream",
     "text": [
      "Hello, my name is John and I am 25 years old.\n"
     ]
    }
   ],
   "source": [
    "class Person:\n",
    "    def __init__(self, name, age):\n",
    "        self.name = name\n",
    "        self.age = age\n",
    "    \n",
    "    def say_hello(self):\n",
    "        print(f\"Hello, my name is {self.name} and I am {self.age} years old.\")\n",
    "\n",
    "person1 = Person(\"John\", 25)\n",
    "\n",
    "person1.say_hello()  "
   ]
  },
  {
   "cell_type": "code",
   "execution_count": null,
   "id": "85a32c68-6050-44f1-b5c3-f79bbfb7f456",
   "metadata": {},
   "outputs": [],
   "source": [
    "In this example, we define a Person class with an __init__() method that takes name and age parameters. Inside the method, we define two attributes, name and age, and assign them the values passed in as parameters. We also define a say_hello() method that prints a message using the object's name and age attributes.\n",
    "\n",
    "We create a new Person object called person1 and pass in the values \"John\" and 25 for the name and age parameters, respectively. When the object is created, the __init__() method is called automatically and initializes the name and age attributes with the values passed in.\n",
    "\n",
    "We then call the say_hello() method on the person1 object, which uses the object's name and age attributes to print a message."
   ]
  },
  {
   "cell_type": "code",
   "execution_count": null,
   "id": "5278e7b5-db12-4700-bcf9-f940b6f8f793",
   "metadata": {},
   "outputs": [],
   "source": [
    "# Q4."
   ]
  },
  {
   "cell_type": "code",
   "execution_count": null,
   "id": "77650cb5-0a68-454e-8f15-bccc19e25ffb",
   "metadata": {},
   "outputs": [],
   "source": [
    "In Object-Oriented Programming (OOP), self is a special parameter that refers to the instance of the class that is being operated on. It is used within class methods to access the attributes and methods of the instance.\n",
    "\n",
    "When a method is called on an object, the object itself is automatically passed as the first argument to the method. This parameter is conventionally named self in Python, but it can be named anything else."
   ]
  },
  {
   "cell_type": "code",
   "execution_count": 2,
   "id": "25b6e915-2857-4c76-a327-e128c387c45b",
   "metadata": {},
   "outputs": [],
   "source": [
    "class Person:\n",
    "    def __init__(self, name):\n",
    "        self.name = name\n",
    "    \n",
    "    def say_hello(self):\n",
    "        print(f\"Hello, my name is {self.name}.\")"
   ]
  },
  {
   "cell_type": "code",
   "execution_count": 3,
   "id": "1a894fa7-614a-4e46-ae68-6d72cd5ac511",
   "metadata": {},
   "outputs": [
    {
     "name": "stdout",
     "output_type": "stream",
     "text": [
      "Hello, my name is John.\n",
      "Hello, my name is Mary.\n"
     ]
    }
   ],
   "source": [
    "person1 = Person(\"John\")\n",
    "person2 = Person(\"Mary\")\n",
    "\n",
    "person1.say_hello()  \n",
    "person2.say_hello() "
   ]
  },
  {
   "cell_type": "code",
   "execution_count": null,
   "id": "c6a0c256-61ca-42e4-a16d-890d703f9a77",
   "metadata": {},
   "outputs": [],
   "source": [
    "# Q5."
   ]
  },
  {
   "cell_type": "code",
   "execution_count": null,
   "id": "508af7b2-da3e-4b3f-ac9b-ec512a75f15f",
   "metadata": {},
   "outputs": [],
   "source": [
    "Inheritance is one of the fundamental concepts in Object-Oriented Programming (OOP) that allows a new class to be based on an existing class. The new class, known as the child or subclass, inherits properties and methods from the existing class, known as the parent or superclass. This helps in code reuse and promotes the creation of more modular and scalable code.\n",
    "\n",
    "There are four types of inheritance:\n",
    "\n",
    "Single Inheritance: In single inheritance, a subclass inherits properties and methods from a single superclass."
   ]
  },
  {
   "cell_type": "code",
   "execution_count": 4,
   "id": "675c96d8-fe81-4c0b-9c3f-8d522552df52",
   "metadata": {},
   "outputs": [
    {
     "name": "stdout",
     "output_type": "stream",
     "text": [
      "Toyota\n",
      "The vehicle is being driven.\n"
     ]
    }
   ],
   "source": [
    "class Vehicle:\n",
    "    def __init__(self, make, model, year):\n",
    "        self.make = make\n",
    "        self.model = model\n",
    "        self.year = year\n",
    "    \n",
    "    def drive(self):\n",
    "        print(\"The vehicle is being driven.\")\n",
    "    \n",
    "class Car(Vehicle):\n",
    "    pass\n",
    "\n",
    "my_car = Car(\"Toyota\", \"Camry\", 2021)\n",
    "print(my_car.make)  \n",
    "my_car.drive()  "
   ]
  },
  {
   "cell_type": "code",
   "execution_count": null,
   "id": "a91908fc-1d11-4429-ac3b-22625b4109d7",
   "metadata": {},
   "outputs": [],
   "source": [
    "Multiple Inheritance: In multiple inheritance, a subclass inherits properties and methods from multiple superclasses."
   ]
  },
  {
   "cell_type": "code",
   "execution_count": 5,
   "id": "1c9a7c05-e9d0-49fd-9a5b-bb503d981d89",
   "metadata": {},
   "outputs": [
    {
     "name": "stdout",
     "output_type": "stream",
     "text": [
      "The animal is eating.\n",
      "The mammal is running.\n",
      "The bird is flying.\n"
     ]
    }
   ],
   "source": [
    "class Animal:\n",
    "    def eat(self):\n",
    "        print(\"The animal is eating.\")\n",
    "    \n",
    "class Mammal(Animal):\n",
    "    def run(self):\n",
    "        print(\"The mammal is running.\")\n",
    "    \n",
    "class Bird(Animal):\n",
    "    def fly(self):\n",
    "        print(\"The bird is flying.\")\n",
    "    \n",
    "class Bat(Mammal, Bird):\n",
    "    pass\n",
    "\n",
    "my_bat = Bat()\n",
    "my_bat.eat()  \n",
    "my_bat.run()  \n",
    "my_bat.fly()"
   ]
  },
  {
   "cell_type": "code",
   "execution_count": null,
   "id": "ae2353c2-a6cf-4c07-b8bd-04764a7d6bad",
   "metadata": {},
   "outputs": [],
   "source": [
    "Multilevel Inheritance: In multilevel inheritance, a subclass inherits properties and methods from a parent class, which itself is a subclass of another class."
   ]
  },
  {
   "cell_type": "code",
   "execution_count": 6,
   "id": "44744e08-cce6-41cf-895f-a81e25e207f7",
   "metadata": {},
   "outputs": [
    {
     "name": "stdout",
     "output_type": "stream",
     "text": [
      "The sports car is accelerating.\n",
      "The vehicle is being driven.\n",
      "The car is parked.\n"
     ]
    }
   ],
   "source": [
    "class Vehicle:\n",
    "    def drive(self):\n",
    "        print(\"The vehicle is being driven.\")\n",
    "    \n",
    "class Car(Vehicle):\n",
    "    def park(self):\n",
    "        print(\"The car is parked.\")\n",
    "    \n",
    "class SportsCar(Car):\n",
    "    def accelerate(self):\n",
    "        print(\"The sports car is accelerating.\")\n",
    "\n",
    "my_sports_car = SportsCar()\n",
    "my_sports_car.accelerate()  \n",
    "my_sports_car.drive() \n",
    "my_sports_car.park()  "
   ]
  },
  {
   "cell_type": "code",
   "execution_count": null,
   "id": "a34ff1ce-a922-4a2d-8516-969cdfe17c07",
   "metadata": {},
   "outputs": [],
   "source": [
    "Hierarchical inheritance: This is a type of inheritance where multiple child classes inherit from the same parent class."
   ]
  },
  {
   "cell_type": "code",
   "execution_count": 7,
   "id": "24cb6e3f-a5ef-4335-9850-bffba9b4f6f9",
   "metadata": {},
   "outputs": [
    {
     "name": "stdout",
     "output_type": "stream",
     "text": [
      "I can drive.\n",
      "I can park.\n",
      "I can drive.\n",
      "I can do a wheelie.\n"
     ]
    }
   ],
   "source": [
    "class Vehicle:\n",
    "    def drive(self):\n",
    "        print(\"I can drive.\")\n",
    "\n",
    "class Car(Vehicle):\n",
    "    def park(self):\n",
    "        print(\"I can park.\")\n",
    "\n",
    "class Motorcycle(Vehicle):\n",
    "    def wheelie(self):\n",
    "        print(\"I can do a wheelie.\")\n",
    "\n",
    "my_car = Car()\n",
    "my_car.drive()  \n",
    "my_car.park() \n",
    "\n",
    "my_motorcycle = Motorcycle()\n",
    "my_motorcycle.drive()  \n",
    "my_motorcycle.wheelie()  "
   ]
  },
  {
   "cell_type": "code",
   "execution_count": null,
   "id": "9a163f9e-af29-4dc1-8dde-0b0dceb010b2",
   "metadata": {},
   "outputs": [],
   "source": []
  }
 ],
 "metadata": {
  "kernelspec": {
   "display_name": "Python 3 (ipykernel)",
   "language": "python",
   "name": "python3"
  },
  "language_info": {
   "codemirror_mode": {
    "name": "ipython",
    "version": 3
   },
   "file_extension": ".py",
   "mimetype": "text/x-python",
   "name": "python",
   "nbconvert_exporter": "python",
   "pygments_lexer": "ipython3",
   "version": "3.10.6"
  }
 },
 "nbformat": 4,
 "nbformat_minor": 5
}
