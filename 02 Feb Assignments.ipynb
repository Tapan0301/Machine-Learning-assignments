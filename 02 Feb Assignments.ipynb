{
 "cells": [
  {
   "cell_type": "code",
   "execution_count": null,
   "id": "1d2edc41-add7-42e6-925d-dcd5aa0f55df",
   "metadata": {},
   "outputs": [],
   "source": [
    "#***************************************** Question No. 1*************************"
   ]
  },
  {
   "cell_type": "code",
   "execution_count": 1,
   "id": "250063b2-6ad6-4bf5-abd7-ecc63c5645b5",
   "metadata": {},
   "outputs": [],
   "source": [
    "# For loop is typically used when you know the number of times we want to execute the set of instructions.\n",
    "# whereas while loop is used when you want to execute a set of instructions repeatedly as long as a certain condition is true."
   ]
  },
  {
   "cell_type": "code",
   "execution_count": 5,
   "id": "c31045f6-e385-4758-954f-652c4ad825c9",
   "metadata": {},
   "outputs": [
    {
     "name": "stdin",
     "output_type": "stream",
     "text": [
      "Enter a number 20\n"
     ]
    },
    {
     "name": "stdout",
     "output_type": "stream",
     "text": [
      "0\n",
      "2\n",
      "4\n",
      "6\n",
      "8\n",
      "10\n",
      "12\n",
      "14\n",
      "16\n",
      "18\n"
     ]
    }
   ],
   "source": [
    "# Example for for loop\n",
    "a=int(input(\"Enter a number\"))\n",
    "for i in range(0,a,2):\n",
    "    print(i)"
   ]
  },
  {
   "cell_type": "code",
   "execution_count": 7,
   "id": "6138de3f-7eda-4b46-9044-8a85c12fe433",
   "metadata": {},
   "outputs": [
    {
     "name": "stdin",
     "output_type": "stream",
     "text": [
      "Enter a number 4\n"
     ]
    },
    {
     "name": "stdout",
     "output_type": "stream",
     "text": [
      "4\n",
      "5\n",
      "out of range\n"
     ]
    }
   ],
   "source": [
    "# example for while loop\n",
    "i=int(input(\"Enter a number\"))\n",
    "while i <= 5:\n",
    "    print(i)\n",
    "    i += 1\n",
    "else:\n",
    "    print(\"out of range\")"
   ]
  },
  {
   "cell_type": "code",
   "execution_count": 8,
   "id": "6485c077-b62d-4791-a484-f598e6778434",
   "metadata": {},
   "outputs": [],
   "source": [
    "#************************ Question 2 ********************************"
   ]
  },
  {
   "cell_type": "code",
   "execution_count": 9,
   "id": "3659bffe-7689-40a2-bd2a-bf393abf4c6b",
   "metadata": {},
   "outputs": [
    {
     "name": "stdout",
     "output_type": "stream",
     "text": [
      "55 3628800\n"
     ]
    }
   ],
   "source": [
    "n=10\n",
    "sum=0\n",
    "prod=1\n",
    "for i in range (1,n+1,1):\n",
    "    sum+=i;\n",
    "    prod*=i;\n",
    "print(sum,prod)"
   ]
  },
  {
   "cell_type": "code",
   "execution_count": 10,
   "id": "54bbca21-1f78-4488-b2eb-9d6724cc058b",
   "metadata": {},
   "outputs": [],
   "source": [
    "#******************** Question 3 ***********************"
   ]
  },
  {
   "cell_type": "code",
   "execution_count": 13,
   "id": "549dafea-00ed-4869-bbce-ef1914f7cc4e",
   "metadata": {},
   "outputs": [
    {
     "name": "stdin",
     "output_type": "stream",
     "text": [
      "Enter the electriity consumed 310\n"
     ]
    },
    {
     "name": "stdout",
     "output_type": "stream",
     "text": [
      "2250.0\n"
     ]
    }
   ],
   "source": [
    "elc=int(input(\"Enter the electriity consumed\"))\n",
    "bill=0\n",
    "if(elc>100):\n",
    "    elc=elc-100\n",
    "    bill+=100*4.5\n",
    "    if(elc>100):\n",
    "        elc=elc-100\n",
    "        bill+=100*6\n",
    "        if(elc>100):\n",
    "            elc=elc-100\n",
    "            bill+=100*10\n",
    "            if(elc>0):\n",
    "                bill+=elc*20\n",
    "print(bill)"
   ]
  },
  {
   "cell_type": "code",
   "execution_count": 14,
   "id": "f5ad062c-2a0e-4aa6-ad7b-91581a8de5c1",
   "metadata": {},
   "outputs": [],
   "source": [
    "#************************ Question 4 **********************"
   ]
  },
  {
   "cell_type": "code",
   "execution_count": 4,
   "id": "32c0c449-a5fd-4632-ae57-1a56788eb2db",
   "metadata": {},
   "outputs": [],
   "source": [
    "l1=list(range(1,101))"
   ]
  },
  {
   "cell_type": "code",
   "execution_count": 5,
   "id": "7aac7e13-0127-4547-81a6-c196d9ce092e",
   "metadata": {},
   "outputs": [
    {
     "name": "stdout",
     "output_type": "stream",
     "text": [
      "[2, 4, 5, 6, 8, 10, 12, 14, 15, 16, 18, 20, 22, 24, 25, 26, 28, 30, 32, 34, 35, 36, 38, 40, 42, 44, 45, 46, 48, 50, 52, 54, 55, 56, 58, 60, 62, 64, 65, 66, 68, 70, 72, 74, 75, 76, 78, 80, 82, 84, 85, 86, 88, 90, 92, 94, 95, 96, 98, 100]\n"
     ]
    }
   ],
   "source": [
    "# Using for loop\n",
    "l2=[]\n",
    "cube=0\n",
    "for i in l1:\n",
    "    cube=i**3\n",
    "    #print(cube)\n",
    "    if(cube % 4==0 or cube % 5==0):\n",
    "        l2.append(i)\n",
    "print(l2)"
   ]
  },
  {
   "cell_type": "code",
   "execution_count": 8,
   "id": "e928cd1d-aba7-4e2b-b1aa-98412ae096ce",
   "metadata": {},
   "outputs": [
    {
     "name": "stdout",
     "output_type": "stream",
     "text": [
      "[2, 4, 5, 6, 8, 10, 12, 14, 15, 16, 18, 20, 22, 24, 25, 26, 28, 30, 32, 34, 35, 36, 38, 40, 42, 44, 45, 46, 48, 50, 52, 54, 55, 56, 58, 60, 62, 64, 65, 66, 68, 70, 72, 74, 75, 76, 78, 80, 82, 84, 85, 86, 88, 90, 92, 94, 95, 96, 98, 100]\n"
     ]
    }
   ],
   "source": [
    "# Using While Loop\n",
    "l3=[]\n",
    "cube=0\n",
    "i=0\n",
    "while i< len(l1):\n",
    "    cube=l1[i]**3\n",
    "    #print(cube)\n",
    "    if(cube % 4==0 or cube % 5==0):\n",
    "        l3.append(l1[i])\n",
    "    i+=1\n",
    "print(l3)"
   ]
  },
  {
   "cell_type": "code",
   "execution_count": 9,
   "id": "7eaa35fe-2dfa-4a73-8e57-b2088889b03b",
   "metadata": {},
   "outputs": [],
   "source": [
    "#********************* Question 5 ******************"
   ]
  },
  {
   "cell_type": "code",
   "execution_count": 12,
   "id": "b256f4cc-b6fd-4463-8057-347f8acd3704",
   "metadata": {},
   "outputs": [
    {
     "name": "stdout",
     "output_type": "stream",
     "text": [
      "12\n",
      "['I', 'a', 'o', 'e', 'o', 'e', 'a', 'a', 'a', 'i', 'e', 'i']\n"
     ]
    }
   ],
   "source": [
    "count=0\n",
    "l4=[]\n",
    "st=\"I want to become a data scientist\"\n",
    "for i in st:\n",
    "    if i in ['a', 'e', 'i', 'o', 'u','A','E','I','O','U']:\n",
    "        count+=1\n",
    "        l4.append(i)\n",
    "print(count)\n",
    "print(l4)"
   ]
  },
  {
   "cell_type": "code",
   "execution_count": null,
   "id": "1739bc8f-a390-4271-83b3-a9a8a9dcd792",
   "metadata": {},
   "outputs": [],
   "source": []
  }
 ],
 "metadata": {
  "kernelspec": {
   "display_name": "Python 3 (ipykernel)",
   "language": "python",
   "name": "python3"
  },
  "language_info": {
   "codemirror_mode": {
    "name": "ipython",
    "version": 3
   },
   "file_extension": ".py",
   "mimetype": "text/x-python",
   "name": "python",
   "nbconvert_exporter": "python",
   "pygments_lexer": "ipython3",
   "version": "3.10.6"
  }
 },
 "nbformat": 4,
 "nbformat_minor": 5
}
