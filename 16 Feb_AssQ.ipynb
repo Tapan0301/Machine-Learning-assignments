{
 "cells": [
  {
   "cell_type": "code",
   "execution_count": null,
   "id": "4df0fe88-002c-4233-b71c-ac5b2e7dc001",
   "metadata": {},
   "outputs": [],
   "source": [
    "#Question 1."
   ]
  },
  {
   "cell_type": "code",
   "execution_count": null,
   "id": "b6e1eb3e-e8d5-436d-ab32-777cd30faf69",
   "metadata": {},
   "outputs": [],
   "source": [
    "A database is a collection of organized data that can be easily accessed, managed, and updated. It can be stored in different formats, including traditional file systems, spreadsheets, and specialized database management systems (DBMS).\n",
    "\n",
    "SQL (Structured Query Language) and NoSQL (Not Only SQL) are two types of database management systems, each with its own advantages and disadvantages.\n",
    "\n",
    "SQL databases use a relational model to store data in tables, which can be joined together to create complex queries. These databases are best suited for applications that require complex queries or data consistency, such as financial systems or inventory management. Examples of SQL databases include MySQL, Oracle, and SQL Server.\n",
    "\n",
    "On the other hand, NoSQL databases use a non-relational model to store data, such as key-value pairs, documents, or graphs. These databases are best suited for applications that require high scalability and flexibility, such as social media platforms or big data analytics. Examples of NoSQL databases include MongoDB, Cassandra, and Redis."
   ]
  },
  {
   "cell_type": "code",
   "execution_count": null,
   "id": "e5c7b5ca-756a-420f-97da-f5e55a390409",
   "metadata": {},
   "outputs": [],
   "source": [
    "#Question 2."
   ]
  },
  {
   "cell_type": "code",
   "execution_count": null,
   "id": "08a2c046-992e-4198-a755-85ef53d7c828",
   "metadata": {},
   "outputs": [],
   "source": [
    "DDL stands for Data Definition Language, which is a subset of SQL used to define and manage the structure of a database. DDL commands are used to create, modify, and delete database objects such as tables, indexes, views, and procedures.\n",
    "\n",
    "Examples of common DDL commands include:\n",
    "\n",
    "CREATE: Used to create a new database object, such as a table or index.\n",
    "ALTER: Used to modify the structure of an existing database object, such as adding a column to a table or changing the data type of a column.\n",
    "DROP: Used to delete an existing database object, such as a table or view.\n",
    "TRUNCATE: Used to delete all data from a table without deleting the table itself."
   ]
  },
  {
   "cell_type": "code",
   "execution_count": null,
   "id": "bd783df5-b366-49f0-a0a4-88c3d28e4aea",
   "metadata": {},
   "outputs": [],
   "source": [
    "CREATE TABLE customers (\n",
    "    customer_id INT PRIMARY KEY,\n",
    "    first_name VARCHAR(50),\n",
    "    last_name VARCHAR(50),\n",
    "    email VARCHAR(100),\n",
    "    created_date DATETIME DEFAULT GETDATE()\n",
    ");"
   ]
  },
  {
   "cell_type": "code",
   "execution_count": null,
   "id": "3202d48d-8f3d-48db-b656-7bc3c06a8cc9",
   "metadata": {},
   "outputs": [],
   "source": [
    "DROP TABLE customers;"
   ]
  },
  {
   "cell_type": "code",
   "execution_count": null,
   "id": "24c64ef5-335f-4f9d-8488-037fc8a046e6",
   "metadata": {},
   "outputs": [],
   "source": [
    "ALTER TABLE customers ADD phone VARCHAR(20);"
   ]
  },
  {
   "cell_type": "code",
   "execution_count": null,
   "id": "caa9a5c4-376f-4e02-aa1b-8266c663ff02",
   "metadata": {},
   "outputs": [],
   "source": [
    "TRUNCATE TABLE customers;"
   ]
  },
  {
   "cell_type": "code",
   "execution_count": null,
   "id": "f2616500-cee2-4149-b8ce-d554a0caf797",
   "metadata": {},
   "outputs": [],
   "source": [
    "#Question 3."
   ]
  },
  {
   "cell_type": "code",
   "execution_count": null,
   "id": "0516062c-e463-4615-b538-3503f25bee3f",
   "metadata": {},
   "outputs": [],
   "source": [
    "DML stands for Data Manipulation Language, which is a subset of SQL used to insert, update, and delete data in a database. DML commands are used to manipulate the data stored in the database objects created with DDL commands.\n",
    "\n",
    "Examples of common DML commands include:\n",
    "\n",
    "INSERT: Used to insert new data into a table.\n",
    "UPDATE: Used to update existing data in a table.\n",
    "DELETE: Used to delete data from a table."
   ]
  },
  {
   "cell_type": "code",
   "execution_count": null,
   "id": "ec445f36-a03d-4a7b-949c-3379780e1b02",
   "metadata": {},
   "outputs": [],
   "source": [
    "#INSERT: This command is used to insert new data into a table. Here's an example:\n",
    "INSERT INTO customers (first_name, last_name, email) VALUES ('John', 'Doe', 'john.doe@example.com');"
   ]
  },
  {
   "cell_type": "code",
   "execution_count": null,
   "id": "b5c3c53e-66bb-439f-8383-771194a2ccfb",
   "metadata": {},
   "outputs": [],
   "source": [
    "#UPDATE: This command is used to update existing data in a table. Here's an example:\n",
    "UPDATE customers SET email = 'jane.doe@example.com' WHERE first_name = 'Jane';"
   ]
  },
  {
   "cell_type": "code",
   "execution_count": null,
   "id": "12d97f18-21bc-4a39-a7a9-48841d12137b",
   "metadata": {},
   "outputs": [],
   "source": [
    "#DELETE: This command is used to delete data from a table. Here's an example:\n",
    "DELETE FROM customers WHERE email = 'john.doe@example.com';"
   ]
  },
  {
   "cell_type": "code",
   "execution_count": null,
   "id": "065d09da-3990-4e05-8567-e2beddf62afa",
   "metadata": {},
   "outputs": [],
   "source": [
    "#Question 4."
   ]
  },
  {
   "cell_type": "code",
   "execution_count": null,
   "id": "9614f122-1480-4b7d-bbf4-be4b8dc28c64",
   "metadata": {},
   "outputs": [],
   "source": [
    "DQL stands for Data Query Language, which is a subset of SQL used to retrieve data from a database. DQL commands are used to query the data stored in the database objects created with DDL commands and manipulated with DML commands.\n",
    "\n",
    "The most commonly used DQL command is SELECT, which is used to retrieve data from one or more tables in a database. The SELECT command allows you to specify which columns you want to retrieve, which table(s) you want to retrieve data from, and any conditions that must be met for the data to be retrieved."
   ]
  },
  {
   "cell_type": "code",
   "execution_count": null,
   "id": "55516e2c-9aca-46c1-83c0-7532b0577fa3",
   "metadata": {},
   "outputs": [],
   "source": [
    "#Here's an example of how the SELECT command could be used:\n",
    "SELECT first_name, last_name, email FROM customers WHERE state = 'CA';"
   ]
  },
  {
   "cell_type": "code",
   "execution_count": null,
   "id": "2b752b38-0505-49c0-b6d1-568e89578126",
   "metadata": {},
   "outputs": [],
   "source": [
    "#Question 5."
   ]
  },
  {
   "cell_type": "code",
   "execution_count": null,
   "id": "61c0daaf-70dc-45fc-9e44-37e42bc94ae3",
   "metadata": {},
   "outputs": [],
   "source": [
    "Primary Key and Foreign Key are two important concepts in database design that help establish relationships between tables and ensure data integrity.\n",
    "\n",
    "A Primary Key is a column or set of columns in a table that uniquely identifies each row in the table. It is used to enforce data integrity by ensuring that each row in the table is uniquely identifiable and that there are no duplicate rows. A Primary Key is typically defined when a table is created using a DDL command like CREATE TABLE.\n",
    "\n",
    "For example, consider a customers table with the following columns: customer_id, first_name, last_name, and email. In this case, the customer_id column could be defined as the Primary Key because it uniquely identifies each row in the table.\n",
    "\n",
    "A Foreign Key is a column or set of columns in a table that refers to the Primary Key of another table. It is used to establish relationships between tables and ensure data consistency by enforcing referential integrity. A Foreign Key is typically defined when a table is created using a DDL command like CREATE TABLE.\n",
    "\n",
    "For example, consider an orders table with the following columns: order_id, customer_id, order_date, and total_amount. In this case, the customer_id column could be defined as a Foreign Key because it refers to the customer_id column in the customers table. This means that each row in the orders table is associated with a row in the customers table, and the Foreign Key ensures that there are no invalid references to non-existent rows in the customers table.\n",
    "\n",
    "To summarize, Primary Keys and Foreign Keys are important concepts in database design that help establish relationships between tables and ensure data integrity and consistency. Primary Keys are used to uniquely identify each row in a table, while Foreign Keys are used to refer to the Primary Key of another table and establish relationships between tables."
   ]
  },
  {
   "cell_type": "code",
   "execution_count": null,
   "id": "0396d53c-c060-45fe-9674-040b036523cc",
   "metadata": {},
   "outputs": [],
   "source": [
    "#Question 6."
   ]
  },
  {
   "cell_type": "code",
   "execution_count": null,
   "id": "d1c37cf6-da15-423f-97c7-9761137be789",
   "metadata": {},
   "outputs": [],
   "source": [
    "import mysql.connector\n",
    "\n",
    "# Connect to the database\n",
    "mydb = mysql.connector.connect(\n",
    "  host=\"localhost\",\n",
    "  user=\"yourusername\",\n",
    "  password=\"yourpassword\",\n",
    "  database=\"mydatabase\"\n",
    ")\n",
    "\n",
    "# Create a cursor object\n",
    "mycursor = mydb.cursor()\n",
    "\n",
    "# Execute a query\n",
    "mycursor.execute(\"SELECT * FROM customers\")\n",
    "\n",
    "# Fetch the results\n",
    "results = mycursor.fetchall()\n",
    "\n",
    "# Print the results\n",
    "for row in results:\n",
    "  print(row)"
   ]
  },
  {
   "cell_type": "code",
   "execution_count": null,
   "id": "fb9a0e47-1e87-4905-829e-b37d612774a2",
   "metadata": {},
   "outputs": [],
   "source": [
    "The cursor() method creates a cursor object that is used to execute SQL commands and retrieve data from the database. The cursor is used to execute the SQL commands like SELECT, INSERT, UPDATE, DELETE, etc. \n",
    "The execute() method of the cursor is used to execute SQL commands. It takes an SQL query string as an argument and returns a result object."
   ]
  },
  {
   "cell_type": "code",
   "execution_count": null,
   "id": "7e5dd1d5-f460-4683-bc09-a0b5f418ebd8",
   "metadata": {},
   "outputs": [],
   "source": [
    "#Question 7."
   ]
  },
  {
   "cell_type": "code",
   "execution_count": null,
   "id": "4b723ce0-a4ca-4d86-acc5-bd0888a6f532",
   "metadata": {},
   "outputs": [],
   "source": [
    "The order of execution of SQL clauses in an SQL query can be summarized as follows:\n",
    "\n",
    "FROM clause: This clause specifies the tables from which the data is to be retrieved.\n",
    "JOIN clause: This clause specifies how the tables are to be joined together, if necessary.\n",
    "WHERE clause: This clause specifies the conditions that the rows must satisfy in order to be included in the query result.\n",
    "GROUP BY clause: This clause specifies how the rows should be grouped together for aggregation functions like SUM, AVG, etc.\n",
    "HAVING clause: This clause specifies conditions on the groups generated by the GROUP BY clause.\n",
    "SELECT clause: This clause specifies the columns to be included in the query result.\n",
    "ORDER BY clause: This clause specifies the order in which the rows should be sorted in the query result.\n",
    "LIMIT clause: This clause specifies the maximum number of rows to be returned in the query result."
   ]
  }
 ],
 "metadata": {
  "kernelspec": {
   "display_name": "Python 3 (ipykernel)",
   "language": "python",
   "name": "python3"
  },
  "language_info": {
   "codemirror_mode": {
    "name": "ipython",
    "version": 3
   },
   "file_extension": ".py",
   "mimetype": "text/x-python",
   "name": "python",
   "nbconvert_exporter": "python",
   "pygments_lexer": "ipython3",
   "version": "3.10.6"
  }
 },
 "nbformat": 4,
 "nbformat_minor": 5
}
