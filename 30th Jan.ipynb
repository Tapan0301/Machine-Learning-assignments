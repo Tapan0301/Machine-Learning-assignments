{
 "cells": [
  {
   "cell_type": "code",
   "execution_count": null,
   "id": "82422303-74eb-4197-93b5-1523e1f340e8",
   "metadata": {},
   "outputs": [],
   "source": [
    "#Question 1."
   ]
  },
  {
   "cell_type": "code",
   "execution_count": 3,
   "id": "e5fb712d-6167-40d7-b6f7-13e535a7dd82",
   "metadata": {},
   "outputs": [
    {
     "name": "stdin",
     "output_type": "stream",
     "text": [
      "Enter the grade 91\n"
     ]
    },
    {
     "name": "stdout",
     "output_type": "stream",
     "text": [
      "A\n"
     ]
    }
   ],
   "source": [
    "marks=int(input(\"Enter the grade\"))\n",
    "if marks > 90 :\n",
    "    print(\"A\")\n",
    "elif marks > 80 and marks <=90:\n",
    "    print(\"B\")\n",
    "elif marks >=60 and marks <=80:\n",
    "    print(\"C\")\n",
    "else :\n",
    "    print(\"D\")"
   ]
  },
  {
   "cell_type": "code",
   "execution_count": null,
   "id": "f422fa68-c796-4494-b619-e4609860e0f0",
   "metadata": {},
   "outputs": [],
   "source": [
    "#Question 2."
   ]
  },
  {
   "cell_type": "code",
   "execution_count": 4,
   "id": "8f9d0058-9046-405f-88cc-ec81bb4bea88",
   "metadata": {},
   "outputs": [
    {
     "name": "stdin",
     "output_type": "stream",
     "text": [
      "Enter the Cost Price of Bike 60000\n"
     ]
    },
    {
     "name": "stdout",
     "output_type": "stream",
     "text": [
      "6000.0\n"
     ]
    }
   ],
   "source": [
    "cost_price=int(input(\"Enter the Cost Price of Bike\"))\n",
    "if cost_price > 100000 :\n",
    "    tax=cost_price*15/100\n",
    "elif cost_price > 50000 and cost_price<=100000 :\n",
    "    tax=cost_price*10/100\n",
    "elif cost_price <= 50000 :\n",
    "    tax=cost_price*5/100\n",
    "print(tax)"
   ]
  },
  {
   "cell_type": "code",
   "execution_count": null,
   "id": "8d45c27a-f1bb-48f2-8398-0026c149d3e1",
   "metadata": {},
   "outputs": [],
   "source": [
    "#Question 3."
   ]
  },
  {
   "cell_type": "code",
   "execution_count": 5,
   "id": "388df8c5-6457-4984-81f1-113937939d82",
   "metadata": {},
   "outputs": [
    {
     "name": "stdin",
     "output_type": "stream",
     "text": [
      "Enter the City Delhi\n"
     ]
    },
    {
     "name": "stdout",
     "output_type": "stream",
     "text": [
      "Red Fort\n"
     ]
    }
   ],
   "source": [
    "city=input(\"Enter the City\")\n",
    "if city == \"Delhi\" :\n",
    "    print(\"Red Fort\")\n",
    "elif city == \"Agra\" :\n",
    "    print(\"Taj Mahal\")\n",
    "elif city == \"Jaipur\" :\n",
    "    print(\"Jal Mahal\")"
   ]
  },
  {
   "cell_type": "code",
   "execution_count": null,
   "id": "7c0f9456-2b10-4a92-9d27-ba4daca13073",
   "metadata": {},
   "outputs": [],
   "source": [
    "#Question 4."
   ]
  },
  {
   "cell_type": "code",
   "execution_count": 6,
   "id": "98300699-e516-45ae-82c8-551444e56c54",
   "metadata": {},
   "outputs": [
    {
     "name": "stdin",
     "output_type": "stream",
     "text": [
      "Enter a number 30\n"
     ]
    },
    {
     "name": "stdout",
     "output_type": "stream",
     "text": [
      "2\n"
     ]
    }
   ],
   "source": [
    "x=int(input(\"Enter a number\"))\n",
    "count=0\n",
    "while x>=10 :\n",
    "    x=x/3\n",
    "    count+=1\n",
    "print(count)"
   ]
  },
  {
   "cell_type": "code",
   "execution_count": null,
   "id": "11ae31cd-b134-4e9f-9f70-c3bd74cc7d06",
   "metadata": {},
   "outputs": [],
   "source": [
    "#Question 5."
   ]
  },
  {
   "cell_type": "code",
   "execution_count": null,
   "id": "d9bf2011-0e2f-4b7b-aa66-b44f8f490f12",
   "metadata": {},
   "outputs": [],
   "source": [
    "A while loop in Python is a type of control flow statement that repeatedly executes a set of statements as long as a particular condition is true.\n",
    "The condition is a Boolean expression that is evaluated at the beginning of each iteration of the loop. If the condition is true, the code inside the loop is executed. If the condition is false, the loop terminates and execution continues with the next statement after the loop.\n",
    "While loop is used when the limit value is not known.\n",
    "Here is an example that demonstrates the basic usage of a while loop:\n",
    "count = 0\n",
    "while count < 5:\n",
    "    print(count)\n",
    "    count += 1"
   ]
  },
  {
   "cell_type": "code",
   "execution_count": null,
   "id": "ef81a678-02b5-4747-8a51-06f985116fac",
   "metadata": {},
   "outputs": [],
   "source": [
    "#Question 6."
   ]
  },
  {
   "cell_type": "code",
   "execution_count": 28,
   "id": "b66e44dc-0c6f-4f0d-89dc-26b7c3513a77",
   "metadata": {},
   "outputs": [
    {
     "name": "stdout",
     "output_type": "stream",
     "text": [
      "* \n",
      "* * \n",
      "* * * \n",
      "* * * * \n",
      "* * * * * \n"
     ]
    }
   ],
   "source": [
    "#Pattern 1.\n",
    "for i in range(0,5):\n",
    "    for j in range(0,i+1):\n",
    "        print(\"* \",end=\"\")\n",
    "    print()"
   ]
  },
  {
   "cell_type": "code",
   "execution_count": 26,
   "id": "c0373b3a-06cb-4395-80ae-f02ce452c34a",
   "metadata": {},
   "outputs": [
    {
     "name": "stdout",
     "output_type": "stream",
     "text": [
      "     * \n",
      "    * * \n",
      "   * * * \n",
      "  * * * * \n",
      " * * * * * \n"
     ]
    }
   ],
   "source": [
    "#Pattern 2.\n",
    "n=6\n",
    "for i in range(1,n):\n",
    "    print(\" \"*(n-i) + \"* \"*(i))"
   ]
  },
  {
   "cell_type": "code",
   "execution_count": 27,
   "id": "9c2b824b-347d-47ea-9c19-c02b079af207",
   "metadata": {},
   "outputs": [
    {
     "name": "stdout",
     "output_type": "stream",
     "text": [
      "* * * * * \n",
      " * * * * \n",
      "  * * * \n",
      "   * * \n",
      "    * \n",
      "   * * \n",
      "  * * * \n",
      " * * * * \n",
      "* * * * * \n"
     ]
    }
   ],
   "source": [
    "#Pattern 3.\n",
    "n = 5\n",
    "for i in range(n, 0, -1):\n",
    "    print(\" \"*(n-i) + \"* \"*(i))\n",
    "for i in range(2, n+1):\n",
    "    print(\" \"*(n-i) + \"* \"*(i))"
   ]
  },
  {
   "cell_type": "code",
   "execution_count": null,
   "id": "5a4d3c9e-1bf4-4f59-b098-5aa42b9c60e8",
   "metadata": {},
   "outputs": [],
   "source": [
    "#Question 7."
   ]
  },
  {
   "cell_type": "code",
   "execution_count": 31,
   "id": "ed2f761b-7e59-409c-802d-141e466debb8",
   "metadata": {},
   "outputs": [
    {
     "name": "stdout",
     "output_type": "stream",
     "text": [
      "10 9 8 7 6 5 4 3 2 1 "
     ]
    }
   ],
   "source": [
    "i=10\n",
    "while i>0 :\n",
    "    print(i,end=\" \")\n",
    "    i-=1"
   ]
  },
  {
   "cell_type": "code",
   "execution_count": null,
   "id": "0c1e6469-0b40-49b3-a209-6c69287646fa",
   "metadata": {},
   "outputs": [],
   "source": [
    "#Question 8."
   ]
  },
  {
   "cell_type": "code",
   "execution_count": 32,
   "id": "861f68c9-2697-4a13-b11f-89e33ce56882",
   "metadata": {},
   "outputs": [
    {
     "name": "stdout",
     "output_type": "stream",
     "text": [
      "10 9 8 7 6 5 4 3 2 1 "
     ]
    }
   ],
   "source": [
    "i=10\n",
    "while i>0 :\n",
    "    print(i,end=\" \")\n",
    "    i-=1"
   ]
  }
 ],
 "metadata": {
  "kernelspec": {
   "display_name": "Python 3 (ipykernel)",
   "language": "python",
   "name": "python3"
  },
  "language_info": {
   "codemirror_mode": {
    "name": "ipython",
    "version": 3
   },
   "file_extension": ".py",
   "mimetype": "text/x-python",
   "name": "python",
   "nbconvert_exporter": "python",
   "pygments_lexer": "ipython3",
   "version": "3.10.6"
  }
 },
 "nbformat": 4,
 "nbformat_minor": 5
}
