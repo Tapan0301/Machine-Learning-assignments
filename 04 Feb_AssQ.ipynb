{
 "cells": [
  {
   "cell_type": "code",
   "execution_count": null,
   "id": "b71e56dd-504c-4c07-a13d-15c6fe8f79e7",
   "metadata": {},
   "outputs": [],
   "source": [
    "#Question 1."
   ]
  },
  {
   "cell_type": "code",
   "execution_count": 2,
   "id": "5c85f815-8fc7-4982-83c4-abafea6e00fc",
   "metadata": {},
   "outputs": [
    {
     "name": "stdout",
     "output_type": "stream",
     "text": [
      "[('Virat Kohli', 24936), ('Jack Kallis', 25534), ('Ricky Ponting', 27483), ('Sachin Tendulkar', 34357)]\n"
     ]
    }
   ],
   "source": [
    "players = [('Sachin Tendulkar', 34357), ('Ricky Ponting', 27483), ('Jack Kallis', 25534), ('Virat Kohli', 24936)]\n",
    "sorted_players = sorted(players, key=lambda x: x[1])\n",
    "print(sorted_players)"
   ]
  },
  {
   "cell_type": "code",
   "execution_count": null,
   "id": "54f7a45d-84fb-47a6-99ae-c93837dda589",
   "metadata": {},
   "outputs": [],
   "source": [
    "#Question 2."
   ]
  },
  {
   "cell_type": "code",
   "execution_count": 6,
   "id": "05f53a0f-5d1e-41e5-b35c-380d6e760127",
   "metadata": {},
   "outputs": [
    {
     "name": "stdout",
     "output_type": "stream",
     "text": [
      "[1, 4, 9, 16, 25, 36, 49, 64, 81, 100]\n"
     ]
    }
   ],
   "source": [
    "l1=[1, 2, 3, 4, 5, 6, 7, 8, 9, 10]\n",
    "squares = list(map(lambda x: x**2,l1))\n",
    "print(squares)"
   ]
  },
  {
   "cell_type": "code",
   "execution_count": null,
   "id": "7bd7a898-490d-4a14-9d7a-bf5efe490294",
   "metadata": {},
   "outputs": [],
   "source": [
    "#Question 3."
   ]
  },
  {
   "cell_type": "code",
   "execution_count": 7,
   "id": "74e962d1-1d06-4c7b-be20-47b4844e646d",
   "metadata": {},
   "outputs": [
    {
     "name": "stdout",
     "output_type": "stream",
     "text": [
      "('1', '2', '3', '4', '5', '6', '7', '8', '9', '10')\n"
     ]
    }
   ],
   "source": [
    "numbers = [1, 2, 3, 4, 5, 6, 7, 8, 9, 10]\n",
    "string_tuple = tuple(map(lambda x: str(x), numbers))\n",
    "print(string_tuple)"
   ]
  },
  {
   "cell_type": "code",
   "execution_count": null,
   "id": "8fdccc80-87bf-4bab-bff7-f34d9704b38c",
   "metadata": {},
   "outputs": [],
   "source": [
    "#Question 4."
   ]
  },
  {
   "cell_type": "code",
   "execution_count": 8,
   "id": "14f9fe75-d11f-4e3e-9ff6-877c944dd7be",
   "metadata": {},
   "outputs": [
    {
     "name": "stdout",
     "output_type": "stream",
     "text": [
      "15511210043330985984000000\n"
     ]
    }
   ],
   "source": [
    "from functools import reduce\n",
    "numbers = list(range(1, 26))\n",
    "product = reduce(lambda x, y: x*y, numbers)\n",
    "print(product)"
   ]
  },
  {
   "cell_type": "code",
   "execution_count": null,
   "id": "fb3b61e8-a224-462d-a129-98c969f56c0a",
   "metadata": {},
   "outputs": [],
   "source": [
    "#Question 5."
   ]
  },
  {
   "cell_type": "code",
   "execution_count": null,
   "id": "f5a86c9c-bc00-4864-ba61-9be2f4831f91",
   "metadata": {},
   "outputs": [],
   "source": [
    "numbers = [2, 3, 6, 9, 27, 60, 90, 120, 55, 46]\n",
    "filtered_numbers = list(filter(lambda x: x%2 == 0 and x%3 == 0, numbers))\n",
    "print(filtered_numbers)"
   ]
  },
  {
   "cell_type": "code",
   "execution_count": null,
   "id": "dc93b8f2-f7e2-42aa-bcfe-e7a458506e4c",
   "metadata": {},
   "outputs": [],
   "source": []
  },
  {
   "cell_type": "code",
   "execution_count": null,
   "id": "e5f8fd8a-7988-438a-9711-8d9303cc4065",
   "metadata": {},
   "outputs": [],
   "source": []
  }
 ],
 "metadata": {
  "kernelspec": {
   "display_name": "Python 3 (ipykernel)",
   "language": "python",
   "name": "python3"
  },
  "language_info": {
   "codemirror_mode": {
    "name": "ipython",
    "version": 3
   },
   "file_extension": ".py",
   "mimetype": "text/x-python",
   "name": "python",
   "nbconvert_exporter": "python",
   "pygments_lexer": "ipython3",
   "version": "3.10.6"
  }
 },
 "nbformat": 4,
 "nbformat_minor": 5
}
